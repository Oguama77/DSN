{
  "nbformat": 4,
  "nbformat_minor": 0,
  "metadata": {
    "colab": {
      "name": "Redo_Umoja",
      "provenance": [],
      "collapsed_sections": []
    },
    "kernelspec": {
      "name": "python3",
      "display_name": "Python 3"
    },
    "language_info": {
      "name": "python"
    }
  },
  "cells": [
    {
      "cell_type": "markdown",
      "source": [
        "IMPORTING LIBRARIES"
      ],
      "metadata": {
        "id": "_IlwiuUU-NDq"
      }
    },
    {
      "cell_type": "code",
      "source": [
        "import pandas as pd\n",
        "import numpy as np\n",
        "import matplotlib.pyplot as plt\n",
        "import seaborn as sns\n",
        "import csv\n",
        "from sklearn.model_selection import train_test_split\n",
        "from sklearn.ensemble import RandomForestClassifier\n",
        "from sklearn.metrics import accuracy_score, confusion_matrix, classification_report, ConfusionMatrixDisplay\n",
        "from scipy import stats\n",
        "from scipy.stats import norm\n",
        "from imblearn.over_sampling import SMOTE\n",
        "from sklearn.ensemble import RandomForestClassifier\n",
        "pd.options.display.float_format = \"{:.5f}\".format\n",
        "\n",
        "%matplotlib inline\n",
        "import warnings\n",
        "warnings.filterwarnings(\"ignore\")"
      ],
      "metadata": {
        "id": "vLw_h6iU-JQn"
      },
      "execution_count": null,
      "outputs": []
    },
    {
      "cell_type": "markdown",
      "source": [
        "READING THE DATASETS"
      ],
      "metadata": {
        "id": "f0f_8vlO-X2k"
      }
    },
    {
      "cell_type": "code",
      "source": [
        "training_data = pd.read_csv(\"/content/train.csv\")\n",
        "testing_data = pd.read_csv(\"/content/test.csv\")\n",
        "sample_submission = pd.read_csv(\"/content/SampleSubmission.csv\")"
      ],
      "metadata": {
        "id": "d3I2EgM-xKL9"
      },
      "execution_count": null,
      "outputs": []
    },
    {
      "cell_type": "markdown",
      "source": [
        "Printing the First Five Rows of the Training Dataset"
      ],
      "metadata": {
        "id": "qt51IUSt-dkm"
      }
    },
    {
      "cell_type": "code",
      "source": [
        "training_data.head()"
      ],
      "metadata": {
        "id": "j2peZGk0xNtG",
        "colab": {
          "base_uri": "https://localhost:8080/",
          "height": 206
        },
        "outputId": "31da04e2-6507-4d33-8721-b320f0087e51"
      },
      "execution_count": null,
      "outputs": [
        {
          "output_type": "execute_result",
          "data": {
            "text/plain": [
              "                ID             Datetime  Sensor1_PM2.5  Sensor2_PM2.5  \\\n",
              "0  ID_QF0ZTQJ2SF5Q  2021-11-03 04:06:31       52.58000       49.52000   \n",
              "1  ID_4GTK689CNX5S  2021-11-08 18:43:23       35.25000       33.40000   \n",
              "2  ID_DL7VVKW9U7XQ  2021-11-07 09:50:33       19.18000       23.50000   \n",
              "3  ID_6XQOMBXM2DG3  2022-01-01 18:55:15       19.40000       15.48000   \n",
              "4  ID_UQZW9ISJY9QE  2021-11-05 22:23:48       38.30000       34.77000   \n",
              "\n",
              "   Temperature  Relative_Humidity  Offset_fault  \n",
              "0     17.40000           96.00000             0  \n",
              "1     25.00000           75.00000             0  \n",
              "2     24.90000           75.00000             0  \n",
              "3     24.90000           70.00000             0  \n",
              "4     20.90000           89.00000             0  "
            ],
            "text/html": [
              "\n",
              "  <div id=\"df-85540138-e85e-412a-8846-7f2422255583\">\n",
              "    <div class=\"colab-df-container\">\n",
              "      <div>\n",
              "<style scoped>\n",
              "    .dataframe tbody tr th:only-of-type {\n",
              "        vertical-align: middle;\n",
              "    }\n",
              "\n",
              "    .dataframe tbody tr th {\n",
              "        vertical-align: top;\n",
              "    }\n",
              "\n",
              "    .dataframe thead th {\n",
              "        text-align: right;\n",
              "    }\n",
              "</style>\n",
              "<table border=\"1\" class=\"dataframe\">\n",
              "  <thead>\n",
              "    <tr style=\"text-align: right;\">\n",
              "      <th></th>\n",
              "      <th>ID</th>\n",
              "      <th>Datetime</th>\n",
              "      <th>Sensor1_PM2.5</th>\n",
              "      <th>Sensor2_PM2.5</th>\n",
              "      <th>Temperature</th>\n",
              "      <th>Relative_Humidity</th>\n",
              "      <th>Offset_fault</th>\n",
              "    </tr>\n",
              "  </thead>\n",
              "  <tbody>\n",
              "    <tr>\n",
              "      <th>0</th>\n",
              "      <td>ID_QF0ZTQJ2SF5Q</td>\n",
              "      <td>2021-11-03 04:06:31</td>\n",
              "      <td>52.58000</td>\n",
              "      <td>49.52000</td>\n",
              "      <td>17.40000</td>\n",
              "      <td>96.00000</td>\n",
              "      <td>0</td>\n",
              "    </tr>\n",
              "    <tr>\n",
              "      <th>1</th>\n",
              "      <td>ID_4GTK689CNX5S</td>\n",
              "      <td>2021-11-08 18:43:23</td>\n",
              "      <td>35.25000</td>\n",
              "      <td>33.40000</td>\n",
              "      <td>25.00000</td>\n",
              "      <td>75.00000</td>\n",
              "      <td>0</td>\n",
              "    </tr>\n",
              "    <tr>\n",
              "      <th>2</th>\n",
              "      <td>ID_DL7VVKW9U7XQ</td>\n",
              "      <td>2021-11-07 09:50:33</td>\n",
              "      <td>19.18000</td>\n",
              "      <td>23.50000</td>\n",
              "      <td>24.90000</td>\n",
              "      <td>75.00000</td>\n",
              "      <td>0</td>\n",
              "    </tr>\n",
              "    <tr>\n",
              "      <th>3</th>\n",
              "      <td>ID_6XQOMBXM2DG3</td>\n",
              "      <td>2022-01-01 18:55:15</td>\n",
              "      <td>19.40000</td>\n",
              "      <td>15.48000</td>\n",
              "      <td>24.90000</td>\n",
              "      <td>70.00000</td>\n",
              "      <td>0</td>\n",
              "    </tr>\n",
              "    <tr>\n",
              "      <th>4</th>\n",
              "      <td>ID_UQZW9ISJY9QE</td>\n",
              "      <td>2021-11-05 22:23:48</td>\n",
              "      <td>38.30000</td>\n",
              "      <td>34.77000</td>\n",
              "      <td>20.90000</td>\n",
              "      <td>89.00000</td>\n",
              "      <td>0</td>\n",
              "    </tr>\n",
              "  </tbody>\n",
              "</table>\n",
              "</div>\n",
              "      <button class=\"colab-df-convert\" onclick=\"convertToInteractive('df-85540138-e85e-412a-8846-7f2422255583')\"\n",
              "              title=\"Convert this dataframe to an interactive table.\"\n",
              "              style=\"display:none;\">\n",
              "        \n",
              "  <svg xmlns=\"http://www.w3.org/2000/svg\" height=\"24px\"viewBox=\"0 0 24 24\"\n",
              "       width=\"24px\">\n",
              "    <path d=\"M0 0h24v24H0V0z\" fill=\"none\"/>\n",
              "    <path d=\"M18.56 5.44l.94 2.06.94-2.06 2.06-.94-2.06-.94-.94-2.06-.94 2.06-2.06.94zm-11 1L8.5 8.5l.94-2.06 2.06-.94-2.06-.94L8.5 2.5l-.94 2.06-2.06.94zm10 10l.94 2.06.94-2.06 2.06-.94-2.06-.94-.94-2.06-.94 2.06-2.06.94z\"/><path d=\"M17.41 7.96l-1.37-1.37c-.4-.4-.92-.59-1.43-.59-.52 0-1.04.2-1.43.59L10.3 9.45l-7.72 7.72c-.78.78-.78 2.05 0 2.83L4 21.41c.39.39.9.59 1.41.59.51 0 1.02-.2 1.41-.59l7.78-7.78 2.81-2.81c.8-.78.8-2.07 0-2.86zM5.41 20L4 18.59l7.72-7.72 1.47 1.35L5.41 20z\"/>\n",
              "  </svg>\n",
              "      </button>\n",
              "      \n",
              "  <style>\n",
              "    .colab-df-container {\n",
              "      display:flex;\n",
              "      flex-wrap:wrap;\n",
              "      gap: 12px;\n",
              "    }\n",
              "\n",
              "    .colab-df-convert {\n",
              "      background-color: #E8F0FE;\n",
              "      border: none;\n",
              "      border-radius: 50%;\n",
              "      cursor: pointer;\n",
              "      display: none;\n",
              "      fill: #1967D2;\n",
              "      height: 32px;\n",
              "      padding: 0 0 0 0;\n",
              "      width: 32px;\n",
              "    }\n",
              "\n",
              "    .colab-df-convert:hover {\n",
              "      background-color: #E2EBFA;\n",
              "      box-shadow: 0px 1px 2px rgba(60, 64, 67, 0.3), 0px 1px 3px 1px rgba(60, 64, 67, 0.15);\n",
              "      fill: #174EA6;\n",
              "    }\n",
              "\n",
              "    [theme=dark] .colab-df-convert {\n",
              "      background-color: #3B4455;\n",
              "      fill: #D2E3FC;\n",
              "    }\n",
              "\n",
              "    [theme=dark] .colab-df-convert:hover {\n",
              "      background-color: #434B5C;\n",
              "      box-shadow: 0px 1px 3px 1px rgba(0, 0, 0, 0.15);\n",
              "      filter: drop-shadow(0px 1px 2px rgba(0, 0, 0, 0.3));\n",
              "      fill: #FFFFFF;\n",
              "    }\n",
              "  </style>\n",
              "\n",
              "      <script>\n",
              "        const buttonEl =\n",
              "          document.querySelector('#df-85540138-e85e-412a-8846-7f2422255583 button.colab-df-convert');\n",
              "        buttonEl.style.display =\n",
              "          google.colab.kernel.accessAllowed ? 'block' : 'none';\n",
              "\n",
              "        async function convertToInteractive(key) {\n",
              "          const element = document.querySelector('#df-85540138-e85e-412a-8846-7f2422255583');\n",
              "          const dataTable =\n",
              "            await google.colab.kernel.invokeFunction('convertToInteractive',\n",
              "                                                     [key], {});\n",
              "          if (!dataTable) return;\n",
              "\n",
              "          const docLinkHtml = 'Like what you see? Visit the ' +\n",
              "            '<a target=\"_blank\" href=https://colab.research.google.com/notebooks/data_table.ipynb>data table notebook</a>'\n",
              "            + ' to learn more about interactive tables.';\n",
              "          element.innerHTML = '';\n",
              "          dataTable['output_type'] = 'display_data';\n",
              "          await google.colab.output.renderOutput(dataTable, element);\n",
              "          const docLink = document.createElement('div');\n",
              "          docLink.innerHTML = docLinkHtml;\n",
              "          element.appendChild(docLink);\n",
              "        }\n",
              "      </script>\n",
              "    </div>\n",
              "  </div>\n",
              "  "
            ]
          },
          "metadata": {},
          "execution_count": 163
        }
      ]
    },
    {
      "cell_type": "markdown",
      "source": [
        "Printing the First Five Rows of the Test Dataset"
      ],
      "metadata": {
        "id": "K_f3YMWU-ndg"
      }
    },
    {
      "cell_type": "code",
      "source": [
        "testing_data.head()"
      ],
      "metadata": {
        "id": "m8ieIKnoxOku",
        "colab": {
          "base_uri": "https://localhost:8080/",
          "height": 206
        },
        "outputId": "be992f78-1fc9-40da-9633-6641823e959d"
      },
      "execution_count": null,
      "outputs": [
        {
          "output_type": "execute_result",
          "data": {
            "text/plain": [
              "                ID             Datetime  Sensor1_PM2.5  Sensor2_PM2.5  \\\n",
              "0  ID_STL3V9B2OU12  2022-01-28 08:49:41       90.75000      114.78000   \n",
              "1  ID_U2EKAY4SGA94  2022-02-16 21:30:17       56.03000       52.18000   \n",
              "2  ID_UJFLEWQR0U4N  2022-01-24 17:57:18      387.35000      346.73000   \n",
              "3  ID_S2C2GPGA4R5I  2022-01-31 07:07:09       63.17000       83.85000   \n",
              "4  ID_5V2C2ZL221H8  2022-01-31 00:37:05       69.23000       53.07000   \n",
              "\n",
              "   Temperature  Relative_Humidity  \n",
              "0     22.20000           56.00000  \n",
              "1          NaN                NaN  \n",
              "2     28.10000           63.00000  \n",
              "3     21.60000           82.00000  \n",
              "4     22.70000           80.00000  "
            ],
            "text/html": [
              "\n",
              "  <div id=\"df-c5fb4202-bfa3-41de-a01a-afcc38b120cb\">\n",
              "    <div class=\"colab-df-container\">\n",
              "      <div>\n",
              "<style scoped>\n",
              "    .dataframe tbody tr th:only-of-type {\n",
              "        vertical-align: middle;\n",
              "    }\n",
              "\n",
              "    .dataframe tbody tr th {\n",
              "        vertical-align: top;\n",
              "    }\n",
              "\n",
              "    .dataframe thead th {\n",
              "        text-align: right;\n",
              "    }\n",
              "</style>\n",
              "<table border=\"1\" class=\"dataframe\">\n",
              "  <thead>\n",
              "    <tr style=\"text-align: right;\">\n",
              "      <th></th>\n",
              "      <th>ID</th>\n",
              "      <th>Datetime</th>\n",
              "      <th>Sensor1_PM2.5</th>\n",
              "      <th>Sensor2_PM2.5</th>\n",
              "      <th>Temperature</th>\n",
              "      <th>Relative_Humidity</th>\n",
              "    </tr>\n",
              "  </thead>\n",
              "  <tbody>\n",
              "    <tr>\n",
              "      <th>0</th>\n",
              "      <td>ID_STL3V9B2OU12</td>\n",
              "      <td>2022-01-28 08:49:41</td>\n",
              "      <td>90.75000</td>\n",
              "      <td>114.78000</td>\n",
              "      <td>22.20000</td>\n",
              "      <td>56.00000</td>\n",
              "    </tr>\n",
              "    <tr>\n",
              "      <th>1</th>\n",
              "      <td>ID_U2EKAY4SGA94</td>\n",
              "      <td>2022-02-16 21:30:17</td>\n",
              "      <td>56.03000</td>\n",
              "      <td>52.18000</td>\n",
              "      <td>NaN</td>\n",
              "      <td>NaN</td>\n",
              "    </tr>\n",
              "    <tr>\n",
              "      <th>2</th>\n",
              "      <td>ID_UJFLEWQR0U4N</td>\n",
              "      <td>2022-01-24 17:57:18</td>\n",
              "      <td>387.35000</td>\n",
              "      <td>346.73000</td>\n",
              "      <td>28.10000</td>\n",
              "      <td>63.00000</td>\n",
              "    </tr>\n",
              "    <tr>\n",
              "      <th>3</th>\n",
              "      <td>ID_S2C2GPGA4R5I</td>\n",
              "      <td>2022-01-31 07:07:09</td>\n",
              "      <td>63.17000</td>\n",
              "      <td>83.85000</td>\n",
              "      <td>21.60000</td>\n",
              "      <td>82.00000</td>\n",
              "    </tr>\n",
              "    <tr>\n",
              "      <th>4</th>\n",
              "      <td>ID_5V2C2ZL221H8</td>\n",
              "      <td>2022-01-31 00:37:05</td>\n",
              "      <td>69.23000</td>\n",
              "      <td>53.07000</td>\n",
              "      <td>22.70000</td>\n",
              "      <td>80.00000</td>\n",
              "    </tr>\n",
              "  </tbody>\n",
              "</table>\n",
              "</div>\n",
              "      <button class=\"colab-df-convert\" onclick=\"convertToInteractive('df-c5fb4202-bfa3-41de-a01a-afcc38b120cb')\"\n",
              "              title=\"Convert this dataframe to an interactive table.\"\n",
              "              style=\"display:none;\">\n",
              "        \n",
              "  <svg xmlns=\"http://www.w3.org/2000/svg\" height=\"24px\"viewBox=\"0 0 24 24\"\n",
              "       width=\"24px\">\n",
              "    <path d=\"M0 0h24v24H0V0z\" fill=\"none\"/>\n",
              "    <path d=\"M18.56 5.44l.94 2.06.94-2.06 2.06-.94-2.06-.94-.94-2.06-.94 2.06-2.06.94zm-11 1L8.5 8.5l.94-2.06 2.06-.94-2.06-.94L8.5 2.5l-.94 2.06-2.06.94zm10 10l.94 2.06.94-2.06 2.06-.94-2.06-.94-.94-2.06-.94 2.06-2.06.94z\"/><path d=\"M17.41 7.96l-1.37-1.37c-.4-.4-.92-.59-1.43-.59-.52 0-1.04.2-1.43.59L10.3 9.45l-7.72 7.72c-.78.78-.78 2.05 0 2.83L4 21.41c.39.39.9.59 1.41.59.51 0 1.02-.2 1.41-.59l7.78-7.78 2.81-2.81c.8-.78.8-2.07 0-2.86zM5.41 20L4 18.59l7.72-7.72 1.47 1.35L5.41 20z\"/>\n",
              "  </svg>\n",
              "      </button>\n",
              "      \n",
              "  <style>\n",
              "    .colab-df-container {\n",
              "      display:flex;\n",
              "      flex-wrap:wrap;\n",
              "      gap: 12px;\n",
              "    }\n",
              "\n",
              "    .colab-df-convert {\n",
              "      background-color: #E8F0FE;\n",
              "      border: none;\n",
              "      border-radius: 50%;\n",
              "      cursor: pointer;\n",
              "      display: none;\n",
              "      fill: #1967D2;\n",
              "      height: 32px;\n",
              "      padding: 0 0 0 0;\n",
              "      width: 32px;\n",
              "    }\n",
              "\n",
              "    .colab-df-convert:hover {\n",
              "      background-color: #E2EBFA;\n",
              "      box-shadow: 0px 1px 2px rgba(60, 64, 67, 0.3), 0px 1px 3px 1px rgba(60, 64, 67, 0.15);\n",
              "      fill: #174EA6;\n",
              "    }\n",
              "\n",
              "    [theme=dark] .colab-df-convert {\n",
              "      background-color: #3B4455;\n",
              "      fill: #D2E3FC;\n",
              "    }\n",
              "\n",
              "    [theme=dark] .colab-df-convert:hover {\n",
              "      background-color: #434B5C;\n",
              "      box-shadow: 0px 1px 3px 1px rgba(0, 0, 0, 0.15);\n",
              "      filter: drop-shadow(0px 1px 2px rgba(0, 0, 0, 0.3));\n",
              "      fill: #FFFFFF;\n",
              "    }\n",
              "  </style>\n",
              "\n",
              "      <script>\n",
              "        const buttonEl =\n",
              "          document.querySelector('#df-c5fb4202-bfa3-41de-a01a-afcc38b120cb button.colab-df-convert');\n",
              "        buttonEl.style.display =\n",
              "          google.colab.kernel.accessAllowed ? 'block' : 'none';\n",
              "\n",
              "        async function convertToInteractive(key) {\n",
              "          const element = document.querySelector('#df-c5fb4202-bfa3-41de-a01a-afcc38b120cb');\n",
              "          const dataTable =\n",
              "            await google.colab.kernel.invokeFunction('convertToInteractive',\n",
              "                                                     [key], {});\n",
              "          if (!dataTable) return;\n",
              "\n",
              "          const docLinkHtml = 'Like what you see? Visit the ' +\n",
              "            '<a target=\"_blank\" href=https://colab.research.google.com/notebooks/data_table.ipynb>data table notebook</a>'\n",
              "            + ' to learn more about interactive tables.';\n",
              "          element.innerHTML = '';\n",
              "          dataTable['output_type'] = 'display_data';\n",
              "          await google.colab.output.renderOutput(dataTable, element);\n",
              "          const docLink = document.createElement('div');\n",
              "          docLink.innerHTML = docLinkHtml;\n",
              "          element.appendChild(docLink);\n",
              "        }\n",
              "      </script>\n",
              "    </div>\n",
              "  </div>\n",
              "  "
            ]
          },
          "metadata": {},
          "execution_count": 164
        }
      ]
    },
    {
      "cell_type": "markdown",
      "source": [
        "Printing the First Five Rows of the Submission Sample Dataset"
      ],
      "metadata": {
        "id": "cbEmcj91-tp9"
      }
    },
    {
      "cell_type": "code",
      "source": [
        "sample_submission.head()"
      ],
      "metadata": {
        "id": "YdlyFkQDxVNQ",
        "colab": {
          "base_uri": "https://localhost:8080/",
          "height": 206
        },
        "outputId": "1a056414-dd7c-4ea9-a720-7e5056a231bd"
      },
      "execution_count": null,
      "outputs": [
        {
          "output_type": "execute_result",
          "data": {
            "text/plain": [
              "                ID  Offset_fault\n",
              "0  ID_STL3V9B2OU12             0\n",
              "1  ID_U2EKAY4SGA94             0\n",
              "2  ID_UJFLEWQR0U4N             0\n",
              "3  ID_S2C2GPGA4R5I             0\n",
              "4  ID_5V2C2ZL221H8             0"
            ],
            "text/html": [
              "\n",
              "  <div id=\"df-bc6bde67-33a2-455a-bef2-2e849091f2bb\">\n",
              "    <div class=\"colab-df-container\">\n",
              "      <div>\n",
              "<style scoped>\n",
              "    .dataframe tbody tr th:only-of-type {\n",
              "        vertical-align: middle;\n",
              "    }\n",
              "\n",
              "    .dataframe tbody tr th {\n",
              "        vertical-align: top;\n",
              "    }\n",
              "\n",
              "    .dataframe thead th {\n",
              "        text-align: right;\n",
              "    }\n",
              "</style>\n",
              "<table border=\"1\" class=\"dataframe\">\n",
              "  <thead>\n",
              "    <tr style=\"text-align: right;\">\n",
              "      <th></th>\n",
              "      <th>ID</th>\n",
              "      <th>Offset_fault</th>\n",
              "    </tr>\n",
              "  </thead>\n",
              "  <tbody>\n",
              "    <tr>\n",
              "      <th>0</th>\n",
              "      <td>ID_STL3V9B2OU12</td>\n",
              "      <td>0</td>\n",
              "    </tr>\n",
              "    <tr>\n",
              "      <th>1</th>\n",
              "      <td>ID_U2EKAY4SGA94</td>\n",
              "      <td>0</td>\n",
              "    </tr>\n",
              "    <tr>\n",
              "      <th>2</th>\n",
              "      <td>ID_UJFLEWQR0U4N</td>\n",
              "      <td>0</td>\n",
              "    </tr>\n",
              "    <tr>\n",
              "      <th>3</th>\n",
              "      <td>ID_S2C2GPGA4R5I</td>\n",
              "      <td>0</td>\n",
              "    </tr>\n",
              "    <tr>\n",
              "      <th>4</th>\n",
              "      <td>ID_5V2C2ZL221H8</td>\n",
              "      <td>0</td>\n",
              "    </tr>\n",
              "  </tbody>\n",
              "</table>\n",
              "</div>\n",
              "      <button class=\"colab-df-convert\" onclick=\"convertToInteractive('df-bc6bde67-33a2-455a-bef2-2e849091f2bb')\"\n",
              "              title=\"Convert this dataframe to an interactive table.\"\n",
              "              style=\"display:none;\">\n",
              "        \n",
              "  <svg xmlns=\"http://www.w3.org/2000/svg\" height=\"24px\"viewBox=\"0 0 24 24\"\n",
              "       width=\"24px\">\n",
              "    <path d=\"M0 0h24v24H0V0z\" fill=\"none\"/>\n",
              "    <path d=\"M18.56 5.44l.94 2.06.94-2.06 2.06-.94-2.06-.94-.94-2.06-.94 2.06-2.06.94zm-11 1L8.5 8.5l.94-2.06 2.06-.94-2.06-.94L8.5 2.5l-.94 2.06-2.06.94zm10 10l.94 2.06.94-2.06 2.06-.94-2.06-.94-.94-2.06-.94 2.06-2.06.94z\"/><path d=\"M17.41 7.96l-1.37-1.37c-.4-.4-.92-.59-1.43-.59-.52 0-1.04.2-1.43.59L10.3 9.45l-7.72 7.72c-.78.78-.78 2.05 0 2.83L4 21.41c.39.39.9.59 1.41.59.51 0 1.02-.2 1.41-.59l7.78-7.78 2.81-2.81c.8-.78.8-2.07 0-2.86zM5.41 20L4 18.59l7.72-7.72 1.47 1.35L5.41 20z\"/>\n",
              "  </svg>\n",
              "      </button>\n",
              "      \n",
              "  <style>\n",
              "    .colab-df-container {\n",
              "      display:flex;\n",
              "      flex-wrap:wrap;\n",
              "      gap: 12px;\n",
              "    }\n",
              "\n",
              "    .colab-df-convert {\n",
              "      background-color: #E8F0FE;\n",
              "      border: none;\n",
              "      border-radius: 50%;\n",
              "      cursor: pointer;\n",
              "      display: none;\n",
              "      fill: #1967D2;\n",
              "      height: 32px;\n",
              "      padding: 0 0 0 0;\n",
              "      width: 32px;\n",
              "    }\n",
              "\n",
              "    .colab-df-convert:hover {\n",
              "      background-color: #E2EBFA;\n",
              "      box-shadow: 0px 1px 2px rgba(60, 64, 67, 0.3), 0px 1px 3px 1px rgba(60, 64, 67, 0.15);\n",
              "      fill: #174EA6;\n",
              "    }\n",
              "\n",
              "    [theme=dark] .colab-df-convert {\n",
              "      background-color: #3B4455;\n",
              "      fill: #D2E3FC;\n",
              "    }\n",
              "\n",
              "    [theme=dark] .colab-df-convert:hover {\n",
              "      background-color: #434B5C;\n",
              "      box-shadow: 0px 1px 3px 1px rgba(0, 0, 0, 0.15);\n",
              "      filter: drop-shadow(0px 1px 2px rgba(0, 0, 0, 0.3));\n",
              "      fill: #FFFFFF;\n",
              "    }\n",
              "  </style>\n",
              "\n",
              "      <script>\n",
              "        const buttonEl =\n",
              "          document.querySelector('#df-bc6bde67-33a2-455a-bef2-2e849091f2bb button.colab-df-convert');\n",
              "        buttonEl.style.display =\n",
              "          google.colab.kernel.accessAllowed ? 'block' : 'none';\n",
              "\n",
              "        async function convertToInteractive(key) {\n",
              "          const element = document.querySelector('#df-bc6bde67-33a2-455a-bef2-2e849091f2bb');\n",
              "          const dataTable =\n",
              "            await google.colab.kernel.invokeFunction('convertToInteractive',\n",
              "                                                     [key], {});\n",
              "          if (!dataTable) return;\n",
              "\n",
              "          const docLinkHtml = 'Like what you see? Visit the ' +\n",
              "            '<a target=\"_blank\" href=https://colab.research.google.com/notebooks/data_table.ipynb>data table notebook</a>'\n",
              "            + ' to learn more about interactive tables.';\n",
              "          element.innerHTML = '';\n",
              "          dataTable['output_type'] = 'display_data';\n",
              "          await google.colab.output.renderOutput(dataTable, element);\n",
              "          const docLink = document.createElement('div');\n",
              "          docLink.innerHTML = docLinkHtml;\n",
              "          element.appendChild(docLink);\n",
              "        }\n",
              "      </script>\n",
              "    </div>\n",
              "  </div>\n",
              "  "
            ]
          },
          "metadata": {},
          "execution_count": 165
        }
      ]
    },
    {
      "cell_type": "markdown",
      "source": [
        "Printing the Shape Of All Three Datasets"
      ],
      "metadata": {
        "id": "F6Jz0_lW-6UQ"
      }
    },
    {
      "cell_type": "code",
      "source": [
        "training_data.shape , testing_data.shape, sample_submission.shape"
      ],
      "metadata": {
        "id": "VOsx_hkCxWAq",
        "colab": {
          "base_uri": "https://localhost:8080/"
        },
        "outputId": "076833b7-f2f7-485f-8021-66fe0b5f6380"
      },
      "execution_count": null,
      "outputs": [
        {
          "output_type": "execute_result",
          "data": {
            "text/plain": [
              "((297177, 7), (127361, 6), (127361, 2))"
            ]
          },
          "metadata": {},
          "execution_count": 166
        }
      ]
    },
    {
      "cell_type": "markdown",
      "source": [
        "Getting a Description of the Training Dataset"
      ],
      "metadata": {
        "id": "M1TdWLEK_BWY"
      }
    },
    {
      "cell_type": "code",
      "source": [
        "training_data.describe(include=\"all\")"
      ],
      "metadata": {
        "id": "B0lS-uoZxhOO",
        "colab": {
          "base_uri": "https://localhost:8080/",
          "height": 438
        },
        "outputId": "5bccfc1d-c18f-44e4-ff1f-97713c5a7ab0"
      },
      "execution_count": null,
      "outputs": [
        {
          "output_type": "execute_result",
          "data": {
            "text/plain": [
              "                     ID             Datetime  Sensor1_PM2.5  Sensor2_PM2.5  \\\n",
              "count            297177               297177   293563.00000   293563.00000   \n",
              "unique           297177               293751            NaN            NaN   \n",
              "top     ID_QF0ZTQJ2SF5Q  2021-11-26 17:23:00            NaN            NaN   \n",
              "freq                  1                    3            NaN            NaN   \n",
              "mean                NaN                  NaN       40.75120       38.18302   \n",
              "std                 NaN                  NaN       28.52618       28.64776   \n",
              "min                 NaN                  NaN       -9.45000       -9.70000   \n",
              "25%                 NaN                  NaN       22.43000       19.52000   \n",
              "50%                 NaN                  NaN       36.47000       33.72000   \n",
              "75%                 NaN                  NaN       49.42000       47.57000   \n",
              "max                 NaN                  NaN      997.96000      997.26000   \n",
              "\n",
              "        Temperature  Relative_Humidity  Offset_fault  \n",
              "count  293628.00000       293628.00000  297177.00000  \n",
              "unique          NaN                NaN           NaN  \n",
              "top             NaN                NaN           NaN  \n",
              "freq            NaN                NaN           NaN  \n",
              "mean       23.31655           78.65362       0.37107  \n",
              "std         3.83697           14.77272       0.48309  \n",
              "min        16.70000           27.00000       0.00000  \n",
              "25%        20.40000           68.00000       0.00000  \n",
              "50%        21.90000           84.00000       0.00000  \n",
              "75%        26.30000           91.00000       1.00000  \n",
              "max        34.90000           99.00000       1.00000  "
            ],
            "text/html": [
              "\n",
              "  <div id=\"df-708a0989-3583-46a0-bf43-74b56bc3d45e\">\n",
              "    <div class=\"colab-df-container\">\n",
              "      <div>\n",
              "<style scoped>\n",
              "    .dataframe tbody tr th:only-of-type {\n",
              "        vertical-align: middle;\n",
              "    }\n",
              "\n",
              "    .dataframe tbody tr th {\n",
              "        vertical-align: top;\n",
              "    }\n",
              "\n",
              "    .dataframe thead th {\n",
              "        text-align: right;\n",
              "    }\n",
              "</style>\n",
              "<table border=\"1\" class=\"dataframe\">\n",
              "  <thead>\n",
              "    <tr style=\"text-align: right;\">\n",
              "      <th></th>\n",
              "      <th>ID</th>\n",
              "      <th>Datetime</th>\n",
              "      <th>Sensor1_PM2.5</th>\n",
              "      <th>Sensor2_PM2.5</th>\n",
              "      <th>Temperature</th>\n",
              "      <th>Relative_Humidity</th>\n",
              "      <th>Offset_fault</th>\n",
              "    </tr>\n",
              "  </thead>\n",
              "  <tbody>\n",
              "    <tr>\n",
              "      <th>count</th>\n",
              "      <td>297177</td>\n",
              "      <td>297177</td>\n",
              "      <td>293563.00000</td>\n",
              "      <td>293563.00000</td>\n",
              "      <td>293628.00000</td>\n",
              "      <td>293628.00000</td>\n",
              "      <td>297177.00000</td>\n",
              "    </tr>\n",
              "    <tr>\n",
              "      <th>unique</th>\n",
              "      <td>297177</td>\n",
              "      <td>293751</td>\n",
              "      <td>NaN</td>\n",
              "      <td>NaN</td>\n",
              "      <td>NaN</td>\n",
              "      <td>NaN</td>\n",
              "      <td>NaN</td>\n",
              "    </tr>\n",
              "    <tr>\n",
              "      <th>top</th>\n",
              "      <td>ID_QF0ZTQJ2SF5Q</td>\n",
              "      <td>2021-11-26 17:23:00</td>\n",
              "      <td>NaN</td>\n",
              "      <td>NaN</td>\n",
              "      <td>NaN</td>\n",
              "      <td>NaN</td>\n",
              "      <td>NaN</td>\n",
              "    </tr>\n",
              "    <tr>\n",
              "      <th>freq</th>\n",
              "      <td>1</td>\n",
              "      <td>3</td>\n",
              "      <td>NaN</td>\n",
              "      <td>NaN</td>\n",
              "      <td>NaN</td>\n",
              "      <td>NaN</td>\n",
              "      <td>NaN</td>\n",
              "    </tr>\n",
              "    <tr>\n",
              "      <th>mean</th>\n",
              "      <td>NaN</td>\n",
              "      <td>NaN</td>\n",
              "      <td>40.75120</td>\n",
              "      <td>38.18302</td>\n",
              "      <td>23.31655</td>\n",
              "      <td>78.65362</td>\n",
              "      <td>0.37107</td>\n",
              "    </tr>\n",
              "    <tr>\n",
              "      <th>std</th>\n",
              "      <td>NaN</td>\n",
              "      <td>NaN</td>\n",
              "      <td>28.52618</td>\n",
              "      <td>28.64776</td>\n",
              "      <td>3.83697</td>\n",
              "      <td>14.77272</td>\n",
              "      <td>0.48309</td>\n",
              "    </tr>\n",
              "    <tr>\n",
              "      <th>min</th>\n",
              "      <td>NaN</td>\n",
              "      <td>NaN</td>\n",
              "      <td>-9.45000</td>\n",
              "      <td>-9.70000</td>\n",
              "      <td>16.70000</td>\n",
              "      <td>27.00000</td>\n",
              "      <td>0.00000</td>\n",
              "    </tr>\n",
              "    <tr>\n",
              "      <th>25%</th>\n",
              "      <td>NaN</td>\n",
              "      <td>NaN</td>\n",
              "      <td>22.43000</td>\n",
              "      <td>19.52000</td>\n",
              "      <td>20.40000</td>\n",
              "      <td>68.00000</td>\n",
              "      <td>0.00000</td>\n",
              "    </tr>\n",
              "    <tr>\n",
              "      <th>50%</th>\n",
              "      <td>NaN</td>\n",
              "      <td>NaN</td>\n",
              "      <td>36.47000</td>\n",
              "      <td>33.72000</td>\n",
              "      <td>21.90000</td>\n",
              "      <td>84.00000</td>\n",
              "      <td>0.00000</td>\n",
              "    </tr>\n",
              "    <tr>\n",
              "      <th>75%</th>\n",
              "      <td>NaN</td>\n",
              "      <td>NaN</td>\n",
              "      <td>49.42000</td>\n",
              "      <td>47.57000</td>\n",
              "      <td>26.30000</td>\n",
              "      <td>91.00000</td>\n",
              "      <td>1.00000</td>\n",
              "    </tr>\n",
              "    <tr>\n",
              "      <th>max</th>\n",
              "      <td>NaN</td>\n",
              "      <td>NaN</td>\n",
              "      <td>997.96000</td>\n",
              "      <td>997.26000</td>\n",
              "      <td>34.90000</td>\n",
              "      <td>99.00000</td>\n",
              "      <td>1.00000</td>\n",
              "    </tr>\n",
              "  </tbody>\n",
              "</table>\n",
              "</div>\n",
              "      <button class=\"colab-df-convert\" onclick=\"convertToInteractive('df-708a0989-3583-46a0-bf43-74b56bc3d45e')\"\n",
              "              title=\"Convert this dataframe to an interactive table.\"\n",
              "              style=\"display:none;\">\n",
              "        \n",
              "  <svg xmlns=\"http://www.w3.org/2000/svg\" height=\"24px\"viewBox=\"0 0 24 24\"\n",
              "       width=\"24px\">\n",
              "    <path d=\"M0 0h24v24H0V0z\" fill=\"none\"/>\n",
              "    <path d=\"M18.56 5.44l.94 2.06.94-2.06 2.06-.94-2.06-.94-.94-2.06-.94 2.06-2.06.94zm-11 1L8.5 8.5l.94-2.06 2.06-.94-2.06-.94L8.5 2.5l-.94 2.06-2.06.94zm10 10l.94 2.06.94-2.06 2.06-.94-2.06-.94-.94-2.06-.94 2.06-2.06.94z\"/><path d=\"M17.41 7.96l-1.37-1.37c-.4-.4-.92-.59-1.43-.59-.52 0-1.04.2-1.43.59L10.3 9.45l-7.72 7.72c-.78.78-.78 2.05 0 2.83L4 21.41c.39.39.9.59 1.41.59.51 0 1.02-.2 1.41-.59l7.78-7.78 2.81-2.81c.8-.78.8-2.07 0-2.86zM5.41 20L4 18.59l7.72-7.72 1.47 1.35L5.41 20z\"/>\n",
              "  </svg>\n",
              "      </button>\n",
              "      \n",
              "  <style>\n",
              "    .colab-df-container {\n",
              "      display:flex;\n",
              "      flex-wrap:wrap;\n",
              "      gap: 12px;\n",
              "    }\n",
              "\n",
              "    .colab-df-convert {\n",
              "      background-color: #E8F0FE;\n",
              "      border: none;\n",
              "      border-radius: 50%;\n",
              "      cursor: pointer;\n",
              "      display: none;\n",
              "      fill: #1967D2;\n",
              "      height: 32px;\n",
              "      padding: 0 0 0 0;\n",
              "      width: 32px;\n",
              "    }\n",
              "\n",
              "    .colab-df-convert:hover {\n",
              "      background-color: #E2EBFA;\n",
              "      box-shadow: 0px 1px 2px rgba(60, 64, 67, 0.3), 0px 1px 3px 1px rgba(60, 64, 67, 0.15);\n",
              "      fill: #174EA6;\n",
              "    }\n",
              "\n",
              "    [theme=dark] .colab-df-convert {\n",
              "      background-color: #3B4455;\n",
              "      fill: #D2E3FC;\n",
              "    }\n",
              "\n",
              "    [theme=dark] .colab-df-convert:hover {\n",
              "      background-color: #434B5C;\n",
              "      box-shadow: 0px 1px 3px 1px rgba(0, 0, 0, 0.15);\n",
              "      filter: drop-shadow(0px 1px 2px rgba(0, 0, 0, 0.3));\n",
              "      fill: #FFFFFF;\n",
              "    }\n",
              "  </style>\n",
              "\n",
              "      <script>\n",
              "        const buttonEl =\n",
              "          document.querySelector('#df-708a0989-3583-46a0-bf43-74b56bc3d45e button.colab-df-convert');\n",
              "        buttonEl.style.display =\n",
              "          google.colab.kernel.accessAllowed ? 'block' : 'none';\n",
              "\n",
              "        async function convertToInteractive(key) {\n",
              "          const element = document.querySelector('#df-708a0989-3583-46a0-bf43-74b56bc3d45e');\n",
              "          const dataTable =\n",
              "            await google.colab.kernel.invokeFunction('convertToInteractive',\n",
              "                                                     [key], {});\n",
              "          if (!dataTable) return;\n",
              "\n",
              "          const docLinkHtml = 'Like what you see? Visit the ' +\n",
              "            '<a target=\"_blank\" href=https://colab.research.google.com/notebooks/data_table.ipynb>data table notebook</a>'\n",
              "            + ' to learn more about interactive tables.';\n",
              "          element.innerHTML = '';\n",
              "          dataTable['output_type'] = 'display_data';\n",
              "          await google.colab.output.renderOutput(dataTable, element);\n",
              "          const docLink = document.createElement('div');\n",
              "          docLink.innerHTML = docLinkHtml;\n",
              "          element.appendChild(docLink);\n",
              "        }\n",
              "      </script>\n",
              "    </div>\n",
              "  </div>\n",
              "  "
            ]
          },
          "metadata": {},
          "execution_count": 167
        }
      ]
    },
    {
      "cell_type": "markdown",
      "source": [
        "SEPARATING THE ID COLUMN TO A DIFFERENT VARIABLE AND DROPPING IT IN THE TRAINING DATASET"
      ],
      "metadata": {
        "id": "HxrdzS8Y_Qd3"
      }
    },
    {
      "cell_type": "code",
      "source": [
        "submit_id =testing_data[\"ID\"]"
      ],
      "metadata": {
        "id": "zvJmd89e1_rN"
      },
      "execution_count": null,
      "outputs": []
    },
    {
      "cell_type": "code",
      "source": [
        "training_data = training_data.drop(\"ID\", axis=1)"
      ],
      "metadata": {
        "id": "JeWYmMuexiFE"
      },
      "execution_count": null,
      "outputs": []
    },
    {
      "cell_type": "markdown",
      "source": [
        "VISUALIZING THE TARGET COLUMN TO CHECK FOR IMBALANCE"
      ],
      "metadata": {
        "id": "F2EK_Fnw_jFg"
      }
    },
    {
      "cell_type": "code",
      "source": [
        "print(training_data.Offset_fault.value_counts())\n",
        "sns.set_style(\"darkgrid\")\n",
        "plt.figure(figsize = (8,5))\n",
        "sns.countplot(training_data[\"Offset_fault\"])\n",
        "plt.title(\"Offset Fault Distribution\")\n",
        "plt.show()"
      ],
      "metadata": {
        "id": "xhgz0ADyxlbB",
        "colab": {
          "base_uri": "https://localhost:8080/",
          "height": 407
        },
        "outputId": "3fd9b27d-d969-46b0-8b0d-1394c25915d4"
      },
      "execution_count": null,
      "outputs": [
        {
          "output_type": "stream",
          "name": "stdout",
          "text": [
            "0    186903\n",
            "1    110274\n",
            "Name: Offset_fault, dtype: int64\n"
          ]
        },
        {
          "output_type": "display_data",
          "data": {
            "text/plain": [
              "<Figure size 576x360 with 1 Axes>"
            ],
            "image/png": "[encoded data removed]"
          },
          "metadata": {}
        }
      ]
    },
    {
      "cell_type": "markdown",
      "source": [
        "FEATURE EXTRACTION FROM THE DATETIME COLUMN"
      ],
      "metadata": {
        "id": "6dHtiQb8_uUh"
      }
    },
    {
      "cell_type": "code",
      "source": [
        "training_data.Datetime = pd.to_datetime(training_data.Datetime)\n",
        "training_data[\"Month\"] = training_data.Datetime.dt.month\n",
        "training_data[\"Month\"] = training_data[\"Month\"].astype(int)\n",
        "training_data[\"Hour\"] = training_data.Datetime.dt.hour\n",
        "training_data[\"Hour\"] = training_data[\"Hour\"].astype(int)\n",
        "training_data[\"Day\"] = training_data.Datetime.dt.day\n",
        "training_data[\"Day\"] = training_data[\"Day\"].astype(int)"
      ],
      "metadata": {
        "id": "jjbK5LtHxo0v"
      },
      "execution_count": null,
      "outputs": []
    },
    {
      "cell_type": "markdown",
      "source": [
        "DROPPING THE DATETIME COLUMN"
      ],
      "metadata": {
        "id": "WHs59Afa_1gd"
      }
    },
    {
      "cell_type": "code",
      "source": [
        "training_data.drop(\"Datetime\", axis=1, inplace=True)"
      ],
      "metadata": {
        "id": "XtG68Dcm0CEH"
      },
      "execution_count": null,
      "outputs": []
    },
    {
      "cell_type": "markdown",
      "source": [
        "CHECKING FOR MISSING DATA IN THE TRAINING DATASET"
      ],
      "metadata": {
        "id": "IbVvROtw_6A9"
      }
    },
    {
      "cell_type": "code",
      "source": [
        "missing_train = {}\n",
        "for i in training_data.columns:\n",
        "  number_missing = training_data[i].isnull().sum()\n",
        "  print(i, number_missing)\n",
        "  percentage_missing = round((number_missing/training_data.shape[0])*100, 2)\n",
        "  print(i, percentage_missing)\n",
        "  missing_train.__setitem__(i, percentage_missing)\n",
        "print(missing_train)\n",
        "missing_df = pd.DataFrame.from_dict(missing_train, orient=\"index\")\n",
        "print(missing_df)\n"
      ],
      "metadata": {
        "id": "P1DyY8qsxsqv",
        "colab": {
          "base_uri": "https://localhost:8080/"
        },
        "outputId": "febfbd63-325e-42b7-da7e-8149a38835d3"
      },
      "execution_count": null,
      "outputs": [
        {
          "output_type": "stream",
          "name": "stdout",
          "text": [
            "Sensor1_PM2.5 3614\n",
            "Sensor1_PM2.5 1.22\n",
            "Sensor2_PM2.5 3614\n",
            "Sensor2_PM2.5 1.22\n",
            "Temperature 3549\n",
            "Temperature 1.19\n",
            "Relative_Humidity 3549\n",
            "Relative_Humidity 1.19\n",
            "Offset_fault 0\n",
            "Offset_fault 0.0\n",
            "Month 0\n",
            "Month 0.0\n",
            "Hour 0\n",
            "Hour 0.0\n",
            "Day 0\n",
            "Day 0.0\n",
            "{'Sensor1_PM2.5': 1.22, 'Sensor2_PM2.5': 1.22, 'Temperature': 1.19, 'Relative_Humidity': 1.19, 'Offset_fault': 0.0, 'Month': 0.0, 'Hour': 0.0, 'Day': 0.0}\n",
            "                        0\n",
            "Sensor1_PM2.5     1.22000\n",
            "Sensor2_PM2.5     1.22000\n",
            "Temperature       1.19000\n",
            "Relative_Humidity 1.19000\n",
            "Offset_fault      0.00000\n",
            "Month             0.00000\n",
            "Hour              0.00000\n",
            "Day               0.00000\n"
          ]
        }
      ]
    },
    {
      "cell_type": "markdown",
      "source": [
        "PLOTTING THE MISSING PERCENTAGE OF MISSING DATA FOR EACH COLUMN IN THE TRAINING DATASET"
      ],
      "metadata": {
        "id": "X_iVRSUfAAON"
      }
    },
    {
      "cell_type": "code",
      "source": [
        "missing_df.plot(kind=\"bar\", figsize= (9,11))\n",
        "plt.show()"
      ],
      "metadata": {
        "id": "Sy8ONSYgxwh_",
        "colab": {
          "base_uri": "https://localhost:8080/",
          "height": 739
        },
        "outputId": "f4d6544b-9be1-471d-a316-ac6decc314e5"
      },
      "execution_count": null,
      "outputs": [
        {
          "output_type": "display_data",
          "data": {
            "text/plain": [
              "<Figure size 648x792 with 1 Axes>"
            ],
            "image/png": "[encoded data removed]"
          },
          "metadata": {}
        }
      ]
    },
    {
      "cell_type": "markdown",
      "source": [
        "CHECKING FOR MISSING VALUES IN THE TEST DATASET"
      ],
      "metadata": {
        "id": "DMgqeNLSAKZ2"
      }
    },
    {
      "cell_type": "code",
      "source": [
        "missing_test = {}\n",
        "for i in testing_data.columns:\n",
        "  number_missing = testing_data[i].isnull().sum()\n",
        "  print(i, number_missing)\n",
        "  percentage_missing = round((number_missing/testing_data.shape[0])*100, 2)\n",
        "  print(i, percentage_missing)\n",
        "  missing_test.__setitem__(i, percentage_missing)\n",
        "print(missing_test)\n",
        "missing_df = pd.DataFrame.from_dict(missing_test, orient=\"index\")\n",
        "print(missing_df)"
      ],
      "metadata": {
        "id": "CDR7NLqtx37y",
        "colab": {
          "base_uri": "https://localhost:8080/"
        },
        "outputId": "67fbef4b-0a10-4380-fa4a-626fa02b55ab"
      },
      "execution_count": null,
      "outputs": [
        {
          "output_type": "stream",
          "name": "stdout",
          "text": [
            "ID 0\n",
            "ID 0.0\n",
            "Datetime 0\n",
            "Datetime 0.0\n",
            "Sensor1_PM2.5 0\n",
            "Sensor1_PM2.5 0.0\n",
            "Sensor2_PM2.5 0\n",
            "Sensor2_PM2.5 0.0\n",
            "Temperature 88090\n",
            "Temperature 69.17\n",
            "Relative_Humidity 88090\n",
            "Relative_Humidity 69.17\n",
            "{'ID': 0.0, 'Datetime': 0.0, 'Sensor1_PM2.5': 0.0, 'Sensor2_PM2.5': 0.0, 'Temperature': 69.17, 'Relative_Humidity': 69.17}\n",
            "                         0\n",
            "ID                 0.00000\n",
            "Datetime           0.00000\n",
            "Sensor1_PM2.5      0.00000\n",
            "Sensor2_PM2.5      0.00000\n",
            "Temperature       69.17000\n",
            "Relative_Humidity 69.17000\n"
          ]
        }
      ]
    },
    {
      "cell_type": "markdown",
      "source": [
        "PLOTTING THE PERCENTAGE OF MISSING VALUES FOR EACH COLUMN IN THE TRAIN DATASET"
      ],
      "metadata": {
        "id": "hVWjNx2jAO0T"
      }
    },
    {
      "cell_type": "code",
      "source": [
        "missing_df.plot(kind=\"bar\", figsize= (9,11))\n",
        "plt.show()"
      ],
      "metadata": {
        "id": "F4oq4azMx49e",
        "colab": {
          "base_uri": "https://localhost:8080/",
          "height": 739
        },
        "outputId": "04d438de-8f4c-4b74-f377-5d5172b0f910"
      },
      "execution_count": null,
      "outputs": [
        {
          "output_type": "display_data",
          "data": {
            "text/plain": [
              "<Figure size 648x792 with 1 Axes>"
            ],
            "image/png": "[encoded data removed]"
          },
          "metadata": {}
        }
      ]
    },
    {
      "cell_type": "markdown",
      "source": [
        "FILLING MISSING VALUES IN BOTH THE TRAINING AND TEST DATASETS"
      ],
      "metadata": {
        "id": "dQ1VOOLmAWMZ"
      }
    },
    {
      "cell_type": "code",
      "source": [
        "train_columns_to_fill = [\"Sensor1_PM2.5\", \"Sensor2_PM2.5\", \"Temperature\", \"Relative_Humidity\"]\n",
        "test_columns_to_fill = [\"Temperature\", \"Relative_Humidity\"]\n",
        "for i in train_columns_to_fill:\n",
        "  training_data[i].ffill(inplace=True)\n",
        "for j in test_columns_to_fill:\n",
        "  testing_data[j].ffill(inplace=True)"
      ],
      "metadata": {
        "id": "4v6DnGRsx8is"
      },
      "execution_count": null,
      "outputs": []
    },
    {
      "cell_type": "markdown",
      "source": [
        "CHECKING FOR ANY MORE MISSING VALUES"
      ],
      "metadata": {
        "id": "_mdGzoGRAdfX"
      }
    },
    {
      "cell_type": "code",
      "source": [
        "print(training_data.isnull().sum().sum())\n",
        "testing_data.isnull().sum().sum()"
      ],
      "metadata": {
        "id": "Lq1rL6u3yAFS",
        "colab": {
          "base_uri": "https://localhost:8080/"
        },
        "outputId": "9ce28d79-6292-4181-ecbc-0d651ae0349f"
      },
      "execution_count": null,
      "outputs": [
        {
          "output_type": "stream",
          "name": "stdout",
          "text": [
            "0\n"
          ]
        },
        {
          "output_type": "execute_result",
          "data": {
            "text/plain": [
              "0"
            ]
          },
          "metadata": {},
          "execution_count": 178
        }
      ]
    },
    {
      "cell_type": "markdown",
      "source": [
        "**MODELING THE TRAINING DATASET:**"
      ],
      "metadata": {
        "id": "I11Rhjv5BBaZ"
      }
    },
    {
      "cell_type": "markdown",
      "source": [
        "VISUALIZATION TO FIND UNIVARIATE  AND BIVARIATE OUTLIERS"
      ],
      "metadata": {
        "id": "TDSp_uTjAgp4"
      }
    },
    {
      "cell_type": "code",
      "source": [
        "# Checking for univariate outliers:\n",
        "plt.rcParams[\"figure.figsize\"]=(24,8)\n",
        "\n",
        "plt.subplot(1,4,1)\n",
        "sns.boxplot(training_data[\"Sensor1_PM2.5\"])\n",
        "\n",
        "plt.subplot(1,4,2)\n",
        "sns.boxplot(training_data[\"Sensor2_PM2.5\"])\n",
        "\n",
        "plt.subplot(1,4,3)\n",
        "sns.boxplot(training_data[\"Temperature\"])\n",
        "\n",
        "plt.subplot(1,4,4)\n",
        "sns.boxplot(training_data[\"Relative_Humidity\"])\n",
        "\n",
        "plt.suptitle(\"Univariate Outliers\", fontsize=16)\n",
        "plt.show()\n",
        "\n",
        "# Checking for bivariate outliers\n",
        "sns.set_style(\"darkgrid\")\n",
        "fig, axes= plt.subplots(nrows=1, ncols=2, figsize=(16,8))\n",
        "fig.suptitle(\"Bivariate Outliers\", y=0.9, fontsize=16)\n",
        "for ax, data, name in zip(axes.flatten(), training_data, [\"Sensor1_PM2.5\", \"Sensor2_PM2.5\"]):\n",
        "  sns.boxplot(training_data[\"Offset_fault\"], training_data[name], ax=ax)\n",
        "plt.show()"
      ],
      "metadata": {
        "id": "h5_5Lo2wyXg7",
        "colab": {
          "base_uri": "https://localhost:8080/",
          "height": 883
        },
        "outputId": "43698cd8-e94e-4759-f5a1-d0dbe1a349ac"
      },
      "execution_count": null,
      "outputs": [
        {
          "output_type": "display_data",
          "data": {
            "text/plain": [
              "<Figure size 1728x576 with 4 Axes>"
            ],
            "image/png": "[encoded data removed]"
          },
          "metadata": {}
        },
        {
          "output_type": "display_data",
          "data": {
            "text/plain": [
              "<Figure size 1152x576 with 2 Axes>"
            ],
            "image/png": "[encoded data removed]"
          },
          "metadata": {}
        }
      ]
    },
    {
      "cell_type": "markdown",
      "source": [
        "VISUALIZATION TO CHECK THE CORRELATION BETWEEN COLUMNS"
      ],
      "metadata": {
        "id": "6iCkr6rWAyYG"
      }
    },
    {
      "cell_type": "code",
      "source": [
        "sns.set(rc = {'figure.figsize':(15,8)})\n",
        "correlation = training_data.corr()\n",
        "sns.heatmap(correlation, annot=True)\n",
        "plt.title(\"Correlation Plot\")\n",
        "plt.show()"
      ],
      "metadata": {
        "id": "fDOao8jjygt_",
        "colab": {
          "base_uri": "https://localhost:8080/",
          "height": 592
        },
        "outputId": "364beb2f-2481-4040-ba00-3147955f9504"
      },
      "execution_count": null,
      "outputs": [
        {
          "output_type": "display_data",
          "data": {
            "text/plain": [
              "<Figure size 1080x576 with 2 Axes>"
            ],
            "image/png": "[encoded data removed]"
          },
          "metadata": {}
        }
      ]
    },
    {
      "cell_type": "markdown",
      "source": [
        "CAPPING THE OUTLIERS AND VISUALIZING THEM"
      ],
      "metadata": {
        "id": "hNgDLPZrBd9b"
      }
    },
    {
      "cell_type": "code",
      "source": [
        "training_data[\"Sensor1_PM2.5\"].values[training_data[\"Sensor1_PM2.5\"].values>100] = 100\n",
        "training_data[\"Sensor2_PM2.5\"].values[training_data[\"Sensor2_PM2.5\"].values>100] = 100\n",
        "plt.rcParams[\"figure.figsize\"]=(24,8)\n",
        "\n",
        "plt.subplot(1,2,1)\n",
        "sns.boxplot(training_data[\"Sensor1_PM2.5\"])\n",
        "\n",
        "plt.subplot(1,2,2)\n",
        "sns.boxplot(training_data[\"Sensor2_PM2.5\"])\n",
        "plt.show()"
      ],
      "metadata": {
        "id": "0nf0cZq2ykWw",
        "colab": {
          "base_uri": "https://localhost:8080/",
          "height": 355
        },
        "outputId": "b5a1fa8a-f9b8-4466-e1ce-3a41a6cbf753"
      },
      "execution_count": null,
      "outputs": [
        {
          "output_type": "display_data",
          "data": {
            "text/plain": [
              "<Figure size 1728x576 with 2 Axes>"
            ],
            "image/png": "[encoded data removed]"
          },
          "metadata": {}
        }
      ]
    },
    {
      "cell_type": "markdown",
      "source": [
        "SPLITTING THE DATA INTO TEST AND VALIDATION SETS"
      ],
      "metadata": {
        "id": "Mg9DJ7loBk-o"
      }
    },
    {
      "cell_type": "code",
      "source": [
        "y = training_data[\"Offset_fault\"]\n",
        "x = training_data[[\"Sensor1_PM2.5\",\t\"Sensor2_PM2.5\", \"Temperature\", \"Relative_Humidity\", \"Hour\", \"Month\", \"Day\"]]\n",
        "x_train, x_val, y_train, y_val = train_test_split(x, y, test_size= 0.2, random_state=5)\n",
        "print(x_train.shape, y_val.shape)"
      ],
      "metadata": {
        "id": "ZgRw-WZrypZQ",
        "colab": {
          "base_uri": "https://localhost:8080/"
        },
        "outputId": "15cd20ee-44bb-4356-9dcc-6b9afab7f3ea"
      },
      "execution_count": null,
      "outputs": [
        {
          "output_type": "stream",
          "name": "stdout",
          "text": [
            "(237741, 7) (59436,)\n"
          ]
        }
      ]
    },
    {
      "cell_type": "markdown",
      "source": [
        "HANDLING TARGET IMBALANCE WITH SMOTE"
      ],
      "metadata": {
        "id": "ON4GRSOLB2af"
      }
    },
    {
      "cell_type": "code",
      "source": [
        "y_arr = np.array(y_train)\n",
        "\n",
        "x_arr = np.array(x_train)\n",
        "smote = SMOTE(sampling_strategy='minority', random_state=42)\n",
        "# Fitting the model to generate the data.\n",
        "smote_x, smote_y = smote.fit_resample(x_arr, y_arr)\n",
        "\n",
        "\n",
        "smote_x = pd.DataFrame(data = smote_x, columns=[\"Sensor1_PM2.5\", \"Sensor2_PM2.5\", \"Temperature\", \"Relative_Humidity\", \"Month\", \"Day\", \"Hour\"])\n",
        "smote_y = pd.DataFrame(data = smote_y, columns=[\"Offset_fault\"])\n",
        "added_columns = [smote_x, smote_y]\n",
        "df_train =pd.concat(added_columns, axis=1).drop_duplicates().reset_index(drop=True)\n",
        "print(df_train.shape)\n",
        "df_train.head()"
      ],
      "metadata": {
        "id": "pOcx_w_nyHjN",
        "colab": {
          "base_uri": "https://localhost:8080/",
          "height": 224
        },
        "outputId": "a485dd30-ee79-4c1a-f3c4-c0ffa204715d"
      },
      "execution_count": null,
      "outputs": [
        {
          "output_type": "stream",
          "name": "stdout",
          "text": [
            "(292738, 8)\n"
          ]
        },
        {
          "output_type": "execute_result",
          "data": {
            "text/plain": [
              "   Sensor1_PM2.5  Sensor2_PM2.5  Temperature  Relative_Humidity    Month  \\\n",
              "0       28.70000       26.32000     28.20000           60.00000 17.00000   \n",
              "1       65.62000       52.78000     19.20000           81.00000  5.00000   \n",
              "2       36.18000       30.15000     28.70000           66.00000 13.00000   \n",
              "3       27.25000       22.33000     29.10000           61.00000 12.00000   \n",
              "4       30.28000       27.73000     20.80000           87.00000  2.00000   \n",
              "\n",
              "       Day     Hour  Offset_fault  \n",
              "0 12.00000 28.00000             0  \n",
              "1  1.00000  6.00000             1  \n",
              "2 11.00000  6.00000             1  \n",
              "3 11.00000 12.00000             0  \n",
              "4  1.00000 14.00000             1  "
            ],
            "text/html": [
              "\n",
              "  <div id=\"df-18bc01a0-0f75-4b5f-8a07-3e5c78b69ab9\">\n",
              "    <div class=\"colab-df-container\">\n",
              "      <div>\n",
              "<style scoped>\n",
              "    .dataframe tbody tr th:only-of-type {\n",
              "        vertical-align: middle;\n",
              "    }\n",
              "\n",
              "    .dataframe tbody tr th {\n",
              "        vertical-align: top;\n",
              "    }\n",
              "\n",
              "    .dataframe thead th {\n",
              "        text-align: right;\n",
              "    }\n",
              "</style>\n",
              "<table border=\"1\" class=\"dataframe\">\n",
              "  <thead>\n",
              "    <tr style=\"text-align: right;\">\n",
              "      <th></th>\n",
              "      <th>Sensor1_PM2.5</th>\n",
              "      <th>Sensor2_PM2.5</th>\n",
              "      <th>Temperature</th>\n",
              "      <th>Relative_Humidity</th>\n",
              "      <th>Month</th>\n",
              "      <th>Day</th>\n",
              "      <th>Hour</th>\n",
              "      <th>Offset_fault</th>\n",
              "    </tr>\n",
              "  </thead>\n",
              "  <tbody>\n",
              "    <tr>\n",
              "      <th>0</th>\n",
              "      <td>28.70000</td>\n",
              "      <td>26.32000</td>\n",
              "      <td>28.20000</td>\n",
              "      <td>60.00000</td>\n",
              "      <td>17.00000</td>\n",
              "      <td>12.00000</td>\n",
              "      <td>28.00000</td>\n",
              "      <td>0</td>\n",
              "    </tr>\n",
              "    <tr>\n",
              "      <th>1</th>\n",
              "      <td>65.62000</td>\n",
              "      <td>52.78000</td>\n",
              "      <td>19.20000</td>\n",
              "      <td>81.00000</td>\n",
              "      <td>5.00000</td>\n",
              "      <td>1.00000</td>\n",
              "      <td>6.00000</td>\n",
              "      <td>1</td>\n",
              "    </tr>\n",
              "    <tr>\n",
              "      <th>2</th>\n",
              "      <td>36.18000</td>\n",
              "      <td>30.15000</td>\n",
              "      <td>28.70000</td>\n",
              "      <td>66.00000</td>\n",
              "      <td>13.00000</td>\n",
              "      <td>11.00000</td>\n",
              "      <td>6.00000</td>\n",
              "      <td>1</td>\n",
              "    </tr>\n",
              "    <tr>\n",
              "      <th>3</th>\n",
              "      <td>27.25000</td>\n",
              "      <td>22.33000</td>\n",
              "      <td>29.10000</td>\n",
              "      <td>61.00000</td>\n",
              "      <td>12.00000</td>\n",
              "      <td>11.00000</td>\n",
              "      <td>12.00000</td>\n",
              "      <td>0</td>\n",
              "    </tr>\n",
              "    <tr>\n",
              "      <th>4</th>\n",
              "      <td>30.28000</td>\n",
              "      <td>27.73000</td>\n",
              "      <td>20.80000</td>\n",
              "      <td>87.00000</td>\n",
              "      <td>2.00000</td>\n",
              "      <td>1.00000</td>\n",
              "      <td>14.00000</td>\n",
              "      <td>1</td>\n",
              "    </tr>\n",
              "  </tbody>\n",
              "</table>\n",
              "</div>\n",
              "      <button class=\"colab-df-convert\" onclick=\"convertToInteractive('df-18bc01a0-0f75-4b5f-8a07-3e5c78b69ab9')\"\n",
              "              title=\"Convert this dataframe to an interactive table.\"\n",
              "              style=\"display:none;\">\n",
              "        \n",
              "  <svg xmlns=\"http://www.w3.org/2000/svg\" height=\"24px\"viewBox=\"0 0 24 24\"\n",
              "       width=\"24px\">\n",
              "    <path d=\"M0 0h24v24H0V0z\" fill=\"none\"/>\n",
              "    <path d=\"M18.56 5.44l.94 2.06.94-2.06 2.06-.94-2.06-.94-.94-2.06-.94 2.06-2.06.94zm-11 1L8.5 8.5l.94-2.06 2.06-.94-2.06-.94L8.5 2.5l-.94 2.06-2.06.94zm10 10l.94 2.06.94-2.06 2.06-.94-2.06-.94-.94-2.06-.94 2.06-2.06.94z\"/><path d=\"M17.41 7.96l-1.37-1.37c-.4-.4-.92-.59-1.43-.59-.52 0-1.04.2-1.43.59L10.3 9.45l-7.72 7.72c-.78.78-.78 2.05 0 2.83L4 21.41c.39.39.9.59 1.41.59.51 0 1.02-.2 1.41-.59l7.78-7.78 2.81-2.81c.8-.78.8-2.07 0-2.86zM5.41 20L4 18.59l7.72-7.72 1.47 1.35L5.41 20z\"/>\n",
              "  </svg>\n",
              "      </button>\n",
              "      \n",
              "  <style>\n",
              "    .colab-df-container {\n",
              "      display:flex;\n",
              "      flex-wrap:wrap;\n",
              "      gap: 12px;\n",
              "    }\n",
              "\n",
              "    .colab-df-convert {\n",
              "      background-color: #E8F0FE;\n",
              "      border: none;\n",
              "      border-radius: 50%;\n",
              "      cursor: pointer;\n",
              "      display: none;\n",
              "      fill: #1967D2;\n",
              "      height: 32px;\n",
              "      padding: 0 0 0 0;\n",
              "      width: 32px;\n",
              "    }\n",
              "\n",
              "    .colab-df-convert:hover {\n",
              "      background-color: #E2EBFA;\n",
              "      box-shadow: 0px 1px 2px rgba(60, 64, 67, 0.3), 0px 1px 3px 1px rgba(60, 64, 67, 0.15);\n",
              "      fill: #174EA6;\n",
              "    }\n",
              "\n",
              "    [theme=dark] .colab-df-convert {\n",
              "      background-color: #3B4455;\n",
              "      fill: #D2E3FC;\n",
              "    }\n",
              "\n",
              "    [theme=dark] .colab-df-convert:hover {\n",
              "      background-color: #434B5C;\n",
              "      box-shadow: 0px 1px 3px 1px rgba(0, 0, 0, 0.15);\n",
              "      filter: drop-shadow(0px 1px 2px rgba(0, 0, 0, 0.3));\n",
              "      fill: #FFFFFF;\n",
              "    }\n",
              "  </style>\n",
              "\n",
              "      <script>\n",
              "        const buttonEl =\n",
              "          document.querySelector('#df-18bc01a0-0f75-4b5f-8a07-3e5c78b69ab9 button.colab-df-convert');\n",
              "        buttonEl.style.display =\n",
              "          google.colab.kernel.accessAllowed ? 'block' : 'none';\n",
              "\n",
              "        async function convertToInteractive(key) {\n",
              "          const element = document.querySelector('#df-18bc01a0-0f75-4b5f-8a07-3e5c78b69ab9');\n",
              "          const dataTable =\n",
              "            await google.colab.kernel.invokeFunction('convertToInteractive',\n",
              "                                                     [key], {});\n",
              "          if (!dataTable) return;\n",
              "\n",
              "          const docLinkHtml = 'Like what you see? Visit the ' +\n",
              "            '<a target=\"_blank\" href=https://colab.research.google.com/notebooks/data_table.ipynb>data table notebook</a>'\n",
              "            + ' to learn more about interactive tables.';\n",
              "          element.innerHTML = '';\n",
              "          dataTable['output_type'] = 'display_data';\n",
              "          await google.colab.output.renderOutput(dataTable, element);\n",
              "          const docLink = document.createElement('div');\n",
              "          docLink.innerHTML = docLinkHtml;\n",
              "          element.appendChild(docLink);\n",
              "        }\n",
              "      </script>\n",
              "    </div>\n",
              "  </div>\n",
              "  "
            ]
          },
          "metadata": {},
          "execution_count": 183
        }
      ]
    },
    {
      "cell_type": "markdown",
      "source": [
        "Checking for the Datatypes of All Columns:"
      ],
      "metadata": {
        "id": "YEYfUVRvHyEq"
      }
    },
    {
      "cell_type": "code",
      "source": [
        "df_train.info()"
      ],
      "metadata": {
        "id": "doC5qdgLH2F0",
        "colab": {
          "base_uri": "https://localhost:8080/"
        },
        "outputId": "cb4ef806-0f84-424e-bf3d-d1165d272a3c"
      },
      "execution_count": null,
      "outputs": [
        {
          "output_type": "stream",
          "name": "stdout",
          "text": [
            "<class 'pandas.core.frame.DataFrame'>\n",
            "RangeIndex: 292738 entries, 0 to 292737\n",
            "Data columns (total 8 columns):\n",
            " #   Column             Non-Null Count   Dtype  \n",
            "---  ------             --------------   -----  \n",
            " 0   Sensor1_PM2.5      292738 non-null  float64\n",
            " 1   Sensor2_PM2.5      292738 non-null  float64\n",
            " 2   Temperature        292738 non-null  float64\n",
            " 3   Relative_Humidity  292738 non-null  float64\n",
            " 4   Month              292738 non-null  float64\n",
            " 5   Day                292738 non-null  float64\n",
            " 6   Hour               292738 non-null  float64\n",
            " 7   Offset_fault       292738 non-null  int64  \n",
            "dtypes: float64(7), int64(1)\n",
            "memory usage: 17.9 MB\n"
          ]
        }
      ]
    },
    {
      "cell_type": "markdown",
      "source": [
        "TRAINING THE TEST DATA WITH RANDOM FOREST CLASSIFIER AND MAKING PREDICTIONS"
      ],
      "metadata": {
        "id": "cBqKcaOWB8yC"
      }
    },
    {
      "cell_type": "code",
      "source": [
        "rfc = RandomForestClassifier(criterion='gini',max_depth=None, max_features='auto',min_samples_leaf=1, min_samples_split=2,n_estimators=100, n_jobs=1,random_state=None)\n",
        "rfc.fit(x_train,y_train)\n",
        "predictions=rfc.predict(x_val)"
      ],
      "metadata": {
        "id": "JjZlp-txyrEI"
      },
      "execution_count": null,
      "outputs": []
    },
    {
      "cell_type": "markdown",
      "source": [
        "CHECKING THE METRICS OF THE PREDICTIONS"
      ],
      "metadata": {
        "id": "eIlPlcmACOFe"
      }
    },
    {
      "cell_type": "code",
      "source": [
        "#Import scikit-learn metrics module for accuracy calculation\n",
        "from sklearn import metrics\n",
        "# Model Accuracy, how often is the classifier correct?\n",
        "print(\"Accuracy:\",metrics.accuracy_score(y_val, predictions))"
      ],
      "metadata": {
        "id": "vdjn4kF_yu31",
        "colab": {
          "base_uri": "https://localhost:8080/"
        },
        "outputId": "d4c2a9ba-df2a-4bf7-fa81-e247e67a2699"
      },
      "execution_count": null,
      "outputs": [
        {
          "output_type": "stream",
          "name": "stdout",
          "text": [
            "Accuracy: 0.966215761491352\n"
          ]
        }
      ]
    },
    {
      "cell_type": "code",
      "source": [
        "# Importing the dependancies\n",
        "from sklearn import metrics\n",
        "# Printing the confusion matrix\n",
        "# The columns will show the instances predicted for each label,\n",
        "# and the rows will show the actual number of instances for each label.\n",
        "conf_matrix = metrics.confusion_matrix(y_val, predictions)\n",
        "print(conf_matrix)\n",
        "# Printing the precision and recall, among other metrics\n",
        "print(metrics.classification_report(y_val, predictions))"
      ],
      "metadata": {
        "id": "nt5keOpHJ1Bw",
        "colab": {
          "base_uri": "https://localhost:8080/"
        },
        "outputId": "64b91748-edc2-41a0-a105-c67dc8af3e9f"
      },
      "execution_count": null,
      "outputs": [
        {
          "output_type": "stream",
          "name": "stdout",
          "text": [
            "[[36313   928]\n",
            " [ 1080 21115]]\n",
            "              precision    recall  f1-score   support\n",
            "\n",
            "           0       0.97      0.98      0.97     37241\n",
            "           1       0.96      0.95      0.95     22195\n",
            "\n",
            "    accuracy                           0.97     59436\n",
            "   macro avg       0.96      0.96      0.96     59436\n",
            "weighted avg       0.97      0.97      0.97     59436\n",
            "\n"
          ]
        }
      ]
    },
    {
      "cell_type": "code",
      "source": [
        "\n",
        "sns.set(rc = {'figure.figsize':(9,8)})\n",
        "labels = ['True Neg','False Pos','False Neg','True Pos']\n",
        "\n",
        "labels = np.asarray(labels).reshape(2,2)\n",
        "\n",
        "ax = sns.heatmap(conf_matrix, annot=labels, fmt='', cmap='Blues')\n",
        "\n",
        "ax.set_xlabel('\\nPredicted Values')\n",
        "ax.set_ylabel('Actual Values ');\n",
        "\n",
        "## Ticket labels - List must be in alphabetical order\n",
        "ax.xaxis.set_ticklabels(['False','True'])\n",
        "ax.yaxis.set_ticklabels(['False','True'])\n",
        "\n",
        "## Display the visualization of the Confusion Matrix.\n",
        "plt.show()"
      ],
      "metadata": {
        "id": "UwxT-jmCKmUU",
        "colab": {
          "base_uri": "https://localhost:8080/",
          "height": 517
        },
        "outputId": "db8f9747-9284-4a96-8e84-9744b195276f"
      },
      "execution_count": null,
      "outputs": [
        {
          "output_type": "display_data",
          "data": {
            "text/plain": [
              "<Figure size 648x576 with 2 Axes>"
            ],
            "image/png": "[encoded data removed]"
          },
          "metadata": {}
        }
      ]
    },
    {
      "cell_type": "markdown",
      "source": [
        "**MAKING PREDICTIONS ON THE TEST DATASET**:"
      ],
      "metadata": {
        "id": "Cm2zSOTWCSzw"
      }
    },
    {
      "cell_type": "code",
      "source": [
        "testing_data.Datetime = pd.to_datetime(testing_data.Datetime)\n",
        "testing_data[\"Month\"] = testing_data.Datetime.dt.month\n",
        "testing_data[\"Month\"] = testing_data[\"Month\"].astype(int)\n",
        "testing_data[\"Hour\"] = testing_data.Datetime.dt.hour\n",
        "testing_data[\"Hour\"] = testing_data[\"Hour\"].astype(int)\n",
        "testing_data[\"Day\"] = testing_data.Datetime.dt.day\n",
        "testing_data[\"Day\"] = testing_data[\"Day\"].astype(int)\n",
        "\n",
        "drop_columns = [\"ID\", \"Datetime\"]\n",
        "testing_data = testing_data.drop(drop_columns, axis=1)\n",
        "testing_data.head()\n",
        "predictions2 = rfc.predict(testing_data)"
      ],
      "metadata": {
        "id": "JLi8Xor1yx-j"
      },
      "execution_count": null,
      "outputs": []
    },
    {
      "cell_type": "markdown",
      "source": [
        "WRITING THE RESULTS INTO A csv FILE"
      ],
      "metadata": {
        "id": "0Mv9aOkFCbfF"
      }
    },
    {
      "cell_type": "code",
      "source": [
        "submit_id =pd.DataFrame(data = submit_id, columns=[\"ID\"])\n",
        "pred =pd.DataFrame(data = predictions2, columns=[\"Offset_fault\"]).astype(int)\n",
        "\n",
        "submission_cols = [submit_id, pred]\n",
        "submission = pd.concat(submission_cols, axis=1).reset_index(drop=True)\n",
        "print(submission.head())\n",
        "print(submission.info())\n",
        "\n",
        "submission.to_csv('/content/umoja_submission.csv', index=False)"
      ],
      "metadata": {
        "id": "rhlE0HGS4Ccl",
        "colab": {
          "base_uri": "https://localhost:8080/"
        },
        "outputId": "a5e9d869-0120-4011-86f9-563d79d7e14f"
      },
      "execution_count": null,
      "outputs": [
        {
          "output_type": "stream",
          "name": "stdout",
          "text": [
            "                ID  Offset_fault\n",
            "0  ID_STL3V9B2OU12             0\n",
            "1  ID_U2EKAY4SGA94             0\n",
            "2  ID_UJFLEWQR0U4N             0\n",
            "3  ID_S2C2GPGA4R5I             0\n",
            "4  ID_5V2C2ZL221H8             0\n",
            "<class 'pandas.core.frame.DataFrame'>\n",
            "RangeIndex: 127361 entries, 0 to 127360\n",
            "Data columns (total 2 columns):\n",
            " #   Column        Non-Null Count   Dtype \n",
            "---  ------        --------------   ----- \n",
            " 0   ID            127361 non-null  object\n",
            " 1   Offset_fault  127361 non-null  int64 \n",
            "dtypes: int64(1), object(1)\n",
            "memory usage: 1.9+ MB\n",
            "None\n"
          ]
        }
      ]
    }
  ]
}